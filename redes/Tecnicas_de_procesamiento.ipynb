{
  "nbformat": 4,
  "nbformat_minor": 0,
  "metadata": {
    "colab": {
      "provenance": [],
      "collapsed_sections": [],
      "authorship_tag": "ABX9TyMaq2dFKJo0X+OqYqq5BqZb",
      "include_colab_link": true
    },
    "kernelspec": {
      "name": "python3",
      "display_name": "Python 3"
    },
    "language_info": {
      "name": "python"
    }
  },
  "cells": [
    {
      "cell_type": "markdown",
      "metadata": {
        "id": "view-in-github",
        "colab_type": "text"
      },
      "source": [
        "<a href=\"https://colab.research.google.com/github/luis314159/portfolio/blob/master/redes/Tecnicas_de_procesamiento.ipynb\" target=\"_parent\"><img src=\"https://colab.research.google.com/assets/colab-badge.svg\" alt=\"Open In Colab\"/></a>"
      ]
    },
    {
      "cell_type": "markdown",
      "source": [
        "#**<center>Universidad Autónoma de Chihuahua**\n",
        "\n",
        "<div align= \"center\">\n",
        "<img src=\"https://uach.mx/assets/media/snippet/62/escudo-web-header-black.svg\" width=\"350\" height=\"350\" />\n",
        "\n",
        "</div>\n",
        "<div align =\"center\">\n",
        "<img src=\"https://cimav.edu.mx/wp-content/uploads/2017/05/ingenieria-uach.png\" width=\"200\" height=\"200\" />\n",
        "</div>\n",
        "\n",
        "##<center>Maestría en Ingeniería en Computación \n",
        "##<center>Redes Neuronales\n",
        "##<center>Tarea 1\n",
        "##<center>Técnicas de procesamiento de información\n",
        "###<center>Catedrática: Dra. Graciela María de Jesús Ramírez Alonso\n",
        "###<center>Estudiante: Ing. Luis Ángel Almazán López</center>\n",
        "<!-- badges: start -->\n",
        "[![@luis3.14159](https://img.shields.io/badge/@luis314159-gitHub-darkred?&logoColor=white)](https://github.com/luis314159/) \n",
        "[![Platzi](https://img.shields.io/badge/Platzi_count-luisangelalmaznlpez-green&logoColor=white)](https://platzi.com/p/luisangelalmaznlpez/)\n",
        "![Email](https://img.shields.io/badge/email-p364977@uach.mx-darkblue?&logoColor=white)\n",
        "<!-- badges: end -->\n",
        "\n",
        "\n"
      ],
      "metadata": {
        "id": "3z6OlkMcnH9O"
      }
    },
    {
      "cell_type": "markdown",
      "source": [
        "#Introducción \n",
        "En este trabajo se aplicara las tres técnicas vistas en clases para procesar información, las cuales son:\n",
        "\n",
        "\n",
        "1.   MinMaxScalor\n",
        "2.   StandarScalor\n",
        "3.   RobustScaler\n"
      ],
      "metadata": {
        "id": "tTBkWRHW2rp1"
      }
    },
    {
      "cell_type": "markdown",
      "source": [
        "##Escalamiento \n",
        "El escalamiento de nuestros datos es muy importante ya que algunos modelos de machine learning se benefician de hacer esto, como lo son las redes neuronales.\n",
        "\n"
      ],
      "metadata": {
        "id": "4MHRO6BF61Kp"
      }
    },
    {
      "cell_type": "markdown",
      "source": [
        "##MinMaxScaler\n",
        "\n",
        "Escala los valores a valores que van desde 0 a 1, conciderando los valor máximo y mínimo\n",
        "\n",
        "$x'_i= \\dfrac{x_i-min(x)}{max(x)-min(x)}$"
      ],
      "metadata": {
        "id": "K58UJsZn6Kqi"
      }
    },
    {
      "cell_type": "markdown",
      "source": [
        "##StandarScaler\n",
        "Por cada Feature de los datos la media es 0 y la varianza 1.\n",
        "\n",
        "$x'_i= \\dfrac{x_i-\\overline{R}}{σ}$"
      ],
      "metadata": {
        "id": "djtyawbE88tn"
      }
    },
    {
      "cell_type": "markdown",
      "source": [
        "##RobustScaler \n",
        "Funciona de manera similar al StandarScalor pero este usa la mediana y los cuartiles en lugar de la media, por lo que ignora valores muy alejados del resto."
      ],
      "metadata": {
        "id": "_JicbQXL9y2Q"
      }
    },
    {
      "cell_type": "code",
      "source": [
        "#Importar librerías a utilizar \n",
        "from sklearn.datasets import load_breast_cancer\n",
        "from sklearn.preprocessing import MinMaxScaler \n",
        "from sklearn.preprocessing import StandardScaler\n",
        "from sklearn.preprocessing import RobustScaler\n",
        "from sklearn.model_selection import train_test_split\n",
        "\n",
        "\n",
        "\n",
        "#Cargar datos\n",
        "cancer = load_breast_cancer()\n",
        "cancer_df = load_breast_cancer(as_frame=True)\n",
        "\n",
        "#Numero de muestras de train y test\n",
        "train_samples = 426\n",
        "test_samples = 143\n",
        "\n",
        "#Separando datos\n",
        "X_train, X_test, y_train, y_test = train_test_split(cancer.data, cancer.target, train_size = train_samples, test_size = test_samples, random_state=1)\n",
        "\n",
        "print(f\"Tamaño de la matriz de X de entrenamiento {X_train.shape}\")\n",
        "print(f\"Tamaño de la matriz de X de prueba {X_test.shape}\")"
      ],
      "metadata": {
        "colab": {
          "base_uri": "https://localhost:8080/"
        },
        "id": "RaajLOwV2qOo",
        "outputId": "df11252d-a504-4f6a-9ded-972363c66bb5"
      },
      "execution_count": null,
      "outputs": [
        {
          "output_type": "stream",
          "name": "stdout",
          "text": [
            "Tamaño de la matriz de X de entrenamiento (426, 30)\n",
            "Tamaño de la matriz de X de prueba (143, 30)\n"
          ]
        }
      ]
    },
    {
      "cell_type": "code",
      "source": [
        "#Mostrando algunos de los primeros datos \n",
        "cancer_df.data.head()\n",
        "\n"
      ],
      "metadata": {
        "colab": {
          "base_uri": "https://localhost:8080/",
          "height": 334
        },
        "id": "UrxfEVFGP6yd",
        "outputId": "11320635-1fea-4aa9-eb91-daaf900f1ced"
      },
      "execution_count": null,
      "outputs": [
        {
          "output_type": "execute_result",
          "data": {
            "text/plain": [
              "   mean radius  mean texture  mean perimeter  mean area  mean smoothness  \\\n",
              "0        17.99         10.38          122.80     1001.0          0.11840   \n",
              "1        20.57         17.77          132.90     1326.0          0.08474   \n",
              "2        19.69         21.25          130.00     1203.0          0.10960   \n",
              "3        11.42         20.38           77.58      386.1          0.14250   \n",
              "4        20.29         14.34          135.10     1297.0          0.10030   \n",
              "\n",
              "   mean compactness  mean concavity  mean concave points  mean symmetry  \\\n",
              "0           0.27760          0.3001              0.14710         0.2419   \n",
              "1           0.07864          0.0869              0.07017         0.1812   \n",
              "2           0.15990          0.1974              0.12790         0.2069   \n",
              "3           0.28390          0.2414              0.10520         0.2597   \n",
              "4           0.13280          0.1980              0.10430         0.1809   \n",
              "\n",
              "   mean fractal dimension  ...  worst radius  worst texture  worst perimeter  \\\n",
              "0                 0.07871  ...         25.38          17.33           184.60   \n",
              "1                 0.05667  ...         24.99          23.41           158.80   \n",
              "2                 0.05999  ...         23.57          25.53           152.50   \n",
              "3                 0.09744  ...         14.91          26.50            98.87   \n",
              "4                 0.05883  ...         22.54          16.67           152.20   \n",
              "\n",
              "   worst area  worst smoothness  worst compactness  worst concavity  \\\n",
              "0      2019.0            0.1622             0.6656           0.7119   \n",
              "1      1956.0            0.1238             0.1866           0.2416   \n",
              "2      1709.0            0.1444             0.4245           0.4504   \n",
              "3       567.7            0.2098             0.8663           0.6869   \n",
              "4      1575.0            0.1374             0.2050           0.4000   \n",
              "\n",
              "   worst concave points  worst symmetry  worst fractal dimension  \n",
              "0                0.2654          0.4601                  0.11890  \n",
              "1                0.1860          0.2750                  0.08902  \n",
              "2                0.2430          0.3613                  0.08758  \n",
              "3                0.2575          0.6638                  0.17300  \n",
              "4                0.1625          0.2364                  0.07678  \n",
              "\n",
              "[5 rows x 30 columns]"
            ],
            "text/html": [
              "\n",
              "  <div id=\"df-f5dbeb2b-1f00-4b32-9950-9e1a5c732faf\">\n",
              "    <div class=\"colab-df-container\">\n",
              "      <div>\n",
              "<style scoped>\n",
              "    .dataframe tbody tr th:only-of-type {\n",
              "        vertical-align: middle;\n",
              "    }\n",
              "\n",
              "    .dataframe tbody tr th {\n",
              "        vertical-align: top;\n",
              "    }\n",
              "\n",
              "    .dataframe thead th {\n",
              "        text-align: right;\n",
              "    }\n",
              "</style>\n",
              "<table border=\"1\" class=\"dataframe\">\n",
              "  <thead>\n",
              "    <tr style=\"text-align: right;\">\n",
              "      <th></th>\n",
              "      <th>mean radius</th>\n",
              "      <th>mean texture</th>\n",
              "      <th>mean perimeter</th>\n",
              "      <th>mean area</th>\n",
              "      <th>mean smoothness</th>\n",
              "      <th>mean compactness</th>\n",
              "      <th>mean concavity</th>\n",
              "      <th>mean concave points</th>\n",
              "      <th>mean symmetry</th>\n",
              "      <th>mean fractal dimension</th>\n",
              "      <th>...</th>\n",
              "      <th>worst radius</th>\n",
              "      <th>worst texture</th>\n",
              "      <th>worst perimeter</th>\n",
              "      <th>worst area</th>\n",
              "      <th>worst smoothness</th>\n",
              "      <th>worst compactness</th>\n",
              "      <th>worst concavity</th>\n",
              "      <th>worst concave points</th>\n",
              "      <th>worst symmetry</th>\n",
              "      <th>worst fractal dimension</th>\n",
              "    </tr>\n",
              "  </thead>\n",
              "  <tbody>\n",
              "    <tr>\n",
              "      <th>0</th>\n",
              "      <td>17.99</td>\n",
              "      <td>10.38</td>\n",
              "      <td>122.80</td>\n",
              "      <td>1001.0</td>\n",
              "      <td>0.11840</td>\n",
              "      <td>0.27760</td>\n",
              "      <td>0.3001</td>\n",
              "      <td>0.14710</td>\n",
              "      <td>0.2419</td>\n",
              "      <td>0.07871</td>\n",
              "      <td>...</td>\n",
              "      <td>25.38</td>\n",
              "      <td>17.33</td>\n",
              "      <td>184.60</td>\n",
              "      <td>2019.0</td>\n",
              "      <td>0.1622</td>\n",
              "      <td>0.6656</td>\n",
              "      <td>0.7119</td>\n",
              "      <td>0.2654</td>\n",
              "      <td>0.4601</td>\n",
              "      <td>0.11890</td>\n",
              "    </tr>\n",
              "    <tr>\n",
              "      <th>1</th>\n",
              "      <td>20.57</td>\n",
              "      <td>17.77</td>\n",
              "      <td>132.90</td>\n",
              "      <td>1326.0</td>\n",
              "      <td>0.08474</td>\n",
              "      <td>0.07864</td>\n",
              "      <td>0.0869</td>\n",
              "      <td>0.07017</td>\n",
              "      <td>0.1812</td>\n",
              "      <td>0.05667</td>\n",
              "      <td>...</td>\n",
              "      <td>24.99</td>\n",
              "      <td>23.41</td>\n",
              "      <td>158.80</td>\n",
              "      <td>1956.0</td>\n",
              "      <td>0.1238</td>\n",
              "      <td>0.1866</td>\n",
              "      <td>0.2416</td>\n",
              "      <td>0.1860</td>\n",
              "      <td>0.2750</td>\n",
              "      <td>0.08902</td>\n",
              "    </tr>\n",
              "    <tr>\n",
              "      <th>2</th>\n",
              "      <td>19.69</td>\n",
              "      <td>21.25</td>\n",
              "      <td>130.00</td>\n",
              "      <td>1203.0</td>\n",
              "      <td>0.10960</td>\n",
              "      <td>0.15990</td>\n",
              "      <td>0.1974</td>\n",
              "      <td>0.12790</td>\n",
              "      <td>0.2069</td>\n",
              "      <td>0.05999</td>\n",
              "      <td>...</td>\n",
              "      <td>23.57</td>\n",
              "      <td>25.53</td>\n",
              "      <td>152.50</td>\n",
              "      <td>1709.0</td>\n",
              "      <td>0.1444</td>\n",
              "      <td>0.4245</td>\n",
              "      <td>0.4504</td>\n",
              "      <td>0.2430</td>\n",
              "      <td>0.3613</td>\n",
              "      <td>0.08758</td>\n",
              "    </tr>\n",
              "    <tr>\n",
              "      <th>3</th>\n",
              "      <td>11.42</td>\n",
              "      <td>20.38</td>\n",
              "      <td>77.58</td>\n",
              "      <td>386.1</td>\n",
              "      <td>0.14250</td>\n",
              "      <td>0.28390</td>\n",
              "      <td>0.2414</td>\n",
              "      <td>0.10520</td>\n",
              "      <td>0.2597</td>\n",
              "      <td>0.09744</td>\n",
              "      <td>...</td>\n",
              "      <td>14.91</td>\n",
              "      <td>26.50</td>\n",
              "      <td>98.87</td>\n",
              "      <td>567.7</td>\n",
              "      <td>0.2098</td>\n",
              "      <td>0.8663</td>\n",
              "      <td>0.6869</td>\n",
              "      <td>0.2575</td>\n",
              "      <td>0.6638</td>\n",
              "      <td>0.17300</td>\n",
              "    </tr>\n",
              "    <tr>\n",
              "      <th>4</th>\n",
              "      <td>20.29</td>\n",
              "      <td>14.34</td>\n",
              "      <td>135.10</td>\n",
              "      <td>1297.0</td>\n",
              "      <td>0.10030</td>\n",
              "      <td>0.13280</td>\n",
              "      <td>0.1980</td>\n",
              "      <td>0.10430</td>\n",
              "      <td>0.1809</td>\n",
              "      <td>0.05883</td>\n",
              "      <td>...</td>\n",
              "      <td>22.54</td>\n",
              "      <td>16.67</td>\n",
              "      <td>152.20</td>\n",
              "      <td>1575.0</td>\n",
              "      <td>0.1374</td>\n",
              "      <td>0.2050</td>\n",
              "      <td>0.4000</td>\n",
              "      <td>0.1625</td>\n",
              "      <td>0.2364</td>\n",
              "      <td>0.07678</td>\n",
              "    </tr>\n",
              "  </tbody>\n",
              "</table>\n",
              "<p>5 rows × 30 columns</p>\n",
              "</div>\n",
              "      <button class=\"colab-df-convert\" onclick=\"convertToInteractive('df-f5dbeb2b-1f00-4b32-9950-9e1a5c732faf')\"\n",
              "              title=\"Convert this dataframe to an interactive table.\"\n",
              "              style=\"display:none;\">\n",
              "        \n",
              "  <svg xmlns=\"http://www.w3.org/2000/svg\" height=\"24px\"viewBox=\"0 0 24 24\"\n",
              "       width=\"24px\">\n",
              "    <path d=\"M0 0h24v24H0V0z\" fill=\"none\"/>\n",
              "    <path d=\"M18.56 5.44l.94 2.06.94-2.06 2.06-.94-2.06-.94-.94-2.06-.94 2.06-2.06.94zm-11 1L8.5 8.5l.94-2.06 2.06-.94-2.06-.94L8.5 2.5l-.94 2.06-2.06.94zm10 10l.94 2.06.94-2.06 2.06-.94-2.06-.94-.94-2.06-.94 2.06-2.06.94z\"/><path d=\"M17.41 7.96l-1.37-1.37c-.4-.4-.92-.59-1.43-.59-.52 0-1.04.2-1.43.59L10.3 9.45l-7.72 7.72c-.78.78-.78 2.05 0 2.83L4 21.41c.39.39.9.59 1.41.59.51 0 1.02-.2 1.41-.59l7.78-7.78 2.81-2.81c.8-.78.8-2.07 0-2.86zM5.41 20L4 18.59l7.72-7.72 1.47 1.35L5.41 20z\"/>\n",
              "  </svg>\n",
              "      </button>\n",
              "      \n",
              "  <style>\n",
              "    .colab-df-container {\n",
              "      display:flex;\n",
              "      flex-wrap:wrap;\n",
              "      gap: 12px;\n",
              "    }\n",
              "\n",
              "    .colab-df-convert {\n",
              "      background-color: #E8F0FE;\n",
              "      border: none;\n",
              "      border-radius: 50%;\n",
              "      cursor: pointer;\n",
              "      display: none;\n",
              "      fill: #1967D2;\n",
              "      height: 32px;\n",
              "      padding: 0 0 0 0;\n",
              "      width: 32px;\n",
              "    }\n",
              "\n",
              "    .colab-df-convert:hover {\n",
              "      background-color: #E2EBFA;\n",
              "      box-shadow: 0px 1px 2px rgba(60, 64, 67, 0.3), 0px 1px 3px 1px rgba(60, 64, 67, 0.15);\n",
              "      fill: #174EA6;\n",
              "    }\n",
              "\n",
              "    [theme=dark] .colab-df-convert {\n",
              "      background-color: #3B4455;\n",
              "      fill: #D2E3FC;\n",
              "    }\n",
              "\n",
              "    [theme=dark] .colab-df-convert:hover {\n",
              "      background-color: #434B5C;\n",
              "      box-shadow: 0px 1px 3px 1px rgba(0, 0, 0, 0.15);\n",
              "      filter: drop-shadow(0px 1px 2px rgba(0, 0, 0, 0.3));\n",
              "      fill: #FFFFFF;\n",
              "    }\n",
              "  </style>\n",
              "\n",
              "      <script>\n",
              "        const buttonEl =\n",
              "          document.querySelector('#df-f5dbeb2b-1f00-4b32-9950-9e1a5c732faf button.colab-df-convert');\n",
              "        buttonEl.style.display =\n",
              "          google.colab.kernel.accessAllowed ? 'block' : 'none';\n",
              "\n",
              "        async function convertToInteractive(key) {\n",
              "          const element = document.querySelector('#df-f5dbeb2b-1f00-4b32-9950-9e1a5c732faf');\n",
              "          const dataTable =\n",
              "            await google.colab.kernel.invokeFunction('convertToInteractive',\n",
              "                                                     [key], {});\n",
              "          if (!dataTable) return;\n",
              "\n",
              "          const docLinkHtml = 'Like what you see? Visit the ' +\n",
              "            '<a target=\"_blank\" href=https://colab.research.google.com/notebooks/data_table.ipynb>data table notebook</a>'\n",
              "            + ' to learn more about interactive tables.';\n",
              "          element.innerHTML = '';\n",
              "          dataTable['output_type'] = 'display_data';\n",
              "          await google.colab.output.renderOutput(dataTable, element);\n",
              "          const docLink = document.createElement('div');\n",
              "          docLink.innerHTML = docLinkHtml;\n",
              "          element.appendChild(docLink);\n",
              "        }\n",
              "      </script>\n",
              "    </div>\n",
              "  </div>\n",
              "  "
            ]
          },
          "metadata": {},
          "execution_count": 2
        }
      ]
    },
    {
      "cell_type": "markdown",
      "source": [
        "#MinMxScaler code\n"
      ],
      "metadata": {
        "id": "mnFaE_mpNdz3"
      }
    },
    {
      "cell_type": "code",
      "source": [
        "#ya se ha cargado MinMaxScaler\n",
        "scaler = MinMaxScaler()"
      ],
      "metadata": {
        "id": "ubgJSMJUSIqb"
      },
      "execution_count": null,
      "outputs": []
    },
    {
      "cell_type": "code",
      "source": [
        "#Calculando mínimo y máximo para cada feature con la función fit\n",
        "scaler.fit(X_train)"
      ],
      "metadata": {
        "colab": {
          "base_uri": "https://localhost:8080/"
        },
        "id": "z25J_or-UXlW",
        "outputId": "a97594fc-4aec-4d49-c01f-cb61328eea9c"
      },
      "execution_count": null,
      "outputs": [
        {
          "output_type": "execute_result",
          "data": {
            "text/plain": [
              "MinMaxScaler()"
            ]
          },
          "metadata": {},
          "execution_count": 4
        }
      ]
    },
    {
      "cell_type": "code",
      "source": [
        "#Transformación de los datos\n",
        "X_train_scaled = scaler.transform(X_train)\n",
        "X_test_scaled =  scaler.transform(X_test)\n",
        "print(f\"transformed shape: {X_train_scaled.shape}\")\n",
        "print(f\"Valores mínimos por feature antes de reescalar {X_train.min(axis=0)}\")\n",
        "print(f\"Valores máximos por feature antes de reescalar {X_train.max(axis=0)}\")\n",
        "print(f\"Valores mínimos por feature después de reescalar {X_train_scaled.min(axis=0)}\")\n",
        "print(f\"Valores máximos por feature depués de reescalar {X_train_scaled.max(axis=0)}\")\n"
      ],
      "metadata": {
        "colab": {
          "base_uri": "https://localhost:8080/"
        },
        "id": "iiV2cdGdUukM",
        "outputId": "79f4aea2-624c-4578-f733-8f99d887c089"
      },
      "execution_count": null,
      "outputs": [
        {
          "output_type": "stream",
          "name": "stdout",
          "text": [
            "transformed shape: (426, 30)\n",
            "Valores mínimos por feature antes de reescalar [6.981e+00 9.710e+00 4.379e+01 1.435e+02 5.263e-02 1.938e-02 0.000e+00\n",
            " 0.000e+00 1.060e-01 5.024e-02 1.153e-01 3.602e-01 7.570e-01 6.802e+00\n",
            " 1.713e-03 2.252e-03 0.000e+00 0.000e+00 9.539e-03 8.948e-04 7.930e+00\n",
            " 1.202e+01 5.041e+01 1.852e+02 7.117e-02 2.729e-02 0.000e+00 0.000e+00\n",
            " 1.566e-01 5.521e-02]\n",
            "Valores máximos por feature antes de reescalar [2.811e+01 3.928e+01 1.885e+02 2.501e+03 1.634e-01 2.867e-01 4.268e-01\n",
            " 2.012e-01 3.040e-01 9.575e-02 2.873e+00 4.885e+00 2.198e+01 5.422e+02\n",
            " 3.113e-02 1.354e-01 3.960e-01 5.279e-02 6.146e-02 2.984e-02 3.604e+01\n",
            " 4.954e+01 2.512e+02 4.254e+03 2.226e-01 9.379e-01 1.170e+00 2.910e-01\n",
            " 5.774e-01 1.486e-01]\n",
            "Valores mínimos por feature después de reescalar [0. 0. 0. 0. 0. 0. 0. 0. 0. 0. 0. 0. 0. 0. 0. 0. 0. 0. 0. 0. 0. 0. 0. 0.\n",
            " 0. 0. 0. 0. 0. 0.]\n",
            "Valores máximos por feature depués de reescalar [1. 1. 1. 1. 1. 1. 1. 1. 1. 1. 1. 1. 1. 1. 1. 1. 1. 1. 1. 1. 1. 1. 1. 1.\n",
            " 1. 1. 1. 1. 1. 1.]\n"
          ]
        }
      ]
    },
    {
      "cell_type": "code",
      "source": [
        "#mostrando datos ya reescalados \n",
        "X_train_scaled"
      ],
      "metadata": {
        "colab": {
          "base_uri": "https://localhost:8080/"
        },
        "id": "o6pGczTQ_6iq",
        "outputId": "7cac5d87-c2fc-4185-eb22-99bfd1cc4077"
      },
      "execution_count": null,
      "outputs": [
        {
          "output_type": "execute_result",
          "data": {
            "text/plain": [
              "array([[0.389938  , 0.70713561, 0.4119273 , ..., 0.80962199, 0.59957224,\n",
              "        0.91755006],\n",
              "       [0.37763264, 0.31755157, 0.36790823, ..., 0.51168385, 0.33174905,\n",
              "        0.31598672],\n",
              "       [0.36438071, 0.35238417, 0.35208348, ..., 0.55292096, 0.3476711 ,\n",
              "        0.28857479],\n",
              "       ...,\n",
              "       [0.48364807, 0.50084545, 0.48655933, ..., 0.65257732, 0.4151616 ,\n",
              "        0.84259557],\n",
              "       [0.3336173 , 0.3902604 , 0.31787713, ..., 0.27364261, 0.15684411,\n",
              "        0.22443516],\n",
              "       [0.28628899, 0.29455529, 0.26826066, ..., 0.17226804, 0.10004753,\n",
              "        0.06938644]])"
            ]
          },
          "metadata": {},
          "execution_count": 6
        }
      ]
    },
    {
      "cell_type": "code",
      "source": [
        "X_test_scaled"
      ],
      "metadata": {
        "colab": {
          "base_uri": "https://localhost:8080/"
        },
        "id": "-GqT-WriYuf7",
        "outputId": "26b45f58-4637-48d8-966a-693f8bbde1d7"
      },
      "execution_count": null,
      "outputs": [
        {
          "output_type": "execute_result",
          "data": {
            "text/plain": [
              "array([[0.36485399, 0.14440311, 0.37613157, ..., 0.38075601, 0.2996673 ,\n",
              "        0.39479602],\n",
              "       [0.29291495, 0.30267163, 0.29154861, ..., 0.71752577, 0.55465779,\n",
              "        0.67127101],\n",
              "       [0.28250272, 0.21339195, 0.27192316, ..., 0.3628866 , 0.43108365,\n",
              "        0.43505729],\n",
              "       ...,\n",
              "       [0.38189219, 0.31653703, 0.36949762, ..., 0.38487973, 0.17015209,\n",
              "        0.15344255],\n",
              "       [0.58777036, 0.46635103, 0.58952388, ..., 0.53745704, 0.32176806,\n",
              "        0.22411393],\n",
              "       [0.23233471, 0.38755495, 0.22527814, ..., 0.28395189, 0.35860266,\n",
              "        0.19595246]])"
            ]
          },
          "metadata": {},
          "execution_count": 7
        }
      ]
    },
    {
      "cell_type": "markdown",
      "source": [
        "#StandarScaler Code"
      ],
      "metadata": {
        "id": "DGqP7DTmNqPn"
      }
    },
    {
      "cell_type": "code",
      "source": [
        "#Ya se ha cargado StandardScalor\n",
        "s_scaler = StandardScaler()\n",
        "#Escalando y transformando\n",
        "X_train_s_scaled = s_scaler.fit_transform(X_train)\n",
        "X_test_s_scaled = s_scaler.transform(X_test)\n",
        "print(f\"transformed shape: {X_train_s_scaled.shape}\")\n",
        "print(f\"Valores mínimos por feature antes de reescalar {X_train.min(axis=0)}\")\n",
        "print(f\"Valores máximos por feature antes de reescalar {X_train.max(axis=0)}\")\n",
        "print(f\"Valores mínimos por feature después de reescalar {X_train_s_scaled.min(axis=0)}\")\n",
        "print(f\"Valores máximos por feature depués de reescalar {X_train_s_scaled.max(axis=0)}\")\n",
        "\n"
      ],
      "metadata": {
        "colab": {
          "base_uri": "https://localhost:8080/"
        },
        "id": "NLBA4frnEmZ-",
        "outputId": "062c3a6b-730f-4c8b-8b66-3a26211daf0a"
      },
      "execution_count": null,
      "outputs": [
        {
          "output_type": "stream",
          "name": "stdout",
          "text": [
            "transformed shape: (426, 30)\n",
            "Valores mínimos por feature antes de reescalar [6.981e+00 9.710e+00 4.379e+01 1.435e+02 5.263e-02 1.938e-02 0.000e+00\n",
            " 0.000e+00 1.060e-01 5.024e-02 1.153e-01 3.602e-01 7.570e-01 6.802e+00\n",
            " 1.713e-03 2.252e-03 0.000e+00 0.000e+00 9.539e-03 8.948e-04 7.930e+00\n",
            " 1.202e+01 5.041e+01 1.852e+02 7.117e-02 2.729e-02 0.000e+00 0.000e+00\n",
            " 1.566e-01 5.521e-02]\n",
            "Valores máximos por feature antes de reescalar [2.811e+01 3.928e+01 1.885e+02 2.501e+03 1.634e-01 2.867e-01 4.268e-01\n",
            " 2.012e-01 3.040e-01 9.575e-02 2.873e+00 4.885e+00 2.198e+01 5.422e+02\n",
            " 3.113e-02 1.354e-01 3.960e-01 5.279e-02 6.146e-02 2.984e-02 3.604e+01\n",
            " 4.954e+01 2.512e+02 4.254e+03 2.226e-01 9.379e-01 1.170e+00 2.910e-01\n",
            " 5.774e-01 1.486e-01]\n",
            "Valores mínimos por feature después de reescalar [-1.98331111 -2.21220784 -1.94000195 -1.41936988 -3.17693457 -1.67256345\n",
            " -1.11319845 -1.24998427 -2.75560937 -1.85445424 -1.02191858 -1.4868881\n",
            " -1.02052074 -0.70421713 -1.71897011 -1.30222621 -1.07957012 -1.86438565\n",
            " -1.39523134 -1.04796104 -1.67939465 -2.17804228 -1.6511625  -1.18839672\n",
            " -2.74926775 -1.47787155 -1.32535194 -1.72016962 -2.27370502 -1.69959059]\n",
            "Valores máximos por feature depués de reescalar [ 3.88701919  4.58624348  3.89224808  5.10812604  4.8514086   3.57547871\n",
            "  4.25398267  3.90036693  4.54442389  4.85816459  8.49933194  6.27154538\n",
            "  9.09260141 10.17583892  7.80808434  6.05382083 12.34448729  6.45179451\n",
            "  5.26796545  9.17404056  3.95962531  3.80730971  4.15727317  5.68034656\n",
            "  4.06936089  4.42564904  4.41644563  2.64688892  5.02374939  3.84309307]\n"
          ]
        }
      ]
    },
    {
      "cell_type": "code",
      "source": [
        "#Algunos datos con StandardScalor\n",
        "X_train_s_scaled"
      ],
      "metadata": {
        "colab": {
          "base_uri": "https://localhost:8080/"
        },
        "id": "1C-Q0QFrZSaS",
        "outputId": "9874d51c-a36b-4756-e80a-f3c9df00988a"
      },
      "execution_count": null,
      "outputs": [
        {
          "output_type": "execute_result",
          "data": {
            "text/plain": [
              "array([[ 0.30575375,  2.59521918,  0.46246107, ...,  1.81549702,\n",
              "         2.10164609,  3.38609913],\n",
              "       [ 0.23351721, -0.05334893,  0.20573083, ...,  0.5143837 ,\n",
              "         0.14721854,  0.05182385],\n",
              "       [ 0.15572401,  0.18345881,  0.11343692, ...,  0.69446859,\n",
              "         0.263409  , -0.10011179],\n",
              "       ...,\n",
              "       [ 0.85586279,  1.19276558,  0.89773369, ...,  1.12967374,\n",
              "         0.75591781,  2.97065009],\n",
              "       [-0.02486734,  0.44095848, -0.08606303, ..., -0.52515632,\n",
              "        -1.1291423 , -0.45561747],\n",
              "       [-0.30270019, -0.20968802, -0.37543871, ..., -0.967865  ,\n",
              "        -1.54361274, -1.31500348]])"
            ]
          },
          "metadata": {},
          "execution_count": 9
        }
      ]
    },
    {
      "cell_type": "code",
      "source": [
        "X_test_s_scaled"
      ],
      "metadata": {
        "colab": {
          "base_uri": "https://localhost:8080/"
        },
        "id": "qyxv0p2QZQuG",
        "outputId": "7059894d-fa76-4aac-aff5-74f476449efa"
      },
      "execution_count": null,
      "outputs": [
        {
          "output_type": "execute_result",
          "data": {
            "text/plain": [
              "array([[ 0.16466583, -1.25351157,  0.2707159 , ..., -0.05984029,\n",
              "        -0.19937323,  0.36960159],\n",
              "       [-0.29925853, -0.12172872, -0.2706293 , ...,  1.50252333,\n",
              "         1.28414501,  1.58695485],\n",
              "       [-0.36640548, -0.76017033, -0.39623554, ..., -0.14274122,\n",
              "         0.56519861,  0.54687689],\n",
              "       ...,\n",
              "       [ 0.27454265, -0.02257681,  0.22825745, ..., -0.04070931,\n",
              "        -0.95288436, -0.69310726],\n",
              "       [ 1.60222092,  1.04874756,  1.63646263, ...,  0.66713707,\n",
              "        -0.07079244, -0.38193253],\n",
              "       [-0.68993168,  0.48527447, -0.6947715 , ..., -0.50894012,\n",
              "         0.14350889, -0.50593094]])"
            ]
          },
          "metadata": {},
          "execution_count": 10
        }
      ]
    },
    {
      "cell_type": "markdown",
      "source": [
        "#RobustScaler Code"
      ],
      "metadata": {
        "id": "Sj-F7IMaurqS"
      }
    },
    {
      "cell_type": "code",
      "source": [
        "#Ya se ha cargado RobustScalor\n",
        "r_scaler = RobustScaler()\n",
        "#Escalando y transformando\n",
        "X_train_r_scaled = r_scaler.fit_transform(X_train)\n",
        "X_test_r_scaled = r_scaler.transform(X_test)\n",
        "print(f\"transformed shape: {X_train_r_scaled.shape}\")\n",
        "print(f\"Valores mínimos por feature antes de reescalar {X_train.min(axis=0)}\")\n",
        "print(f\"Valores máximos por feature antes de reescalar {X_train.max(axis=0)}\")\n",
        "print(f\"Valores mínimos por feature después de reescalar {X_train_r_scaled.min(axis=0)}\")\n",
        "print(f\"Valores máximos por feature depués de reescalar {X_train_r_scaled.max(axis=0)}\")\n",
        "\n"
      ],
      "metadata": {
        "colab": {
          "base_uri": "https://localhost:8080/"
        },
        "id": "O3ozu9hTraPu",
        "outputId": "f5a7722c-a163-496e-ef0a-675a040ae290"
      },
      "execution_count": null,
      "outputs": [
        {
          "output_type": "stream",
          "name": "stdout",
          "text": [
            "transformed shape: (426, 30)\n",
            "Valores mínimos por feature antes de reescalar [6.981e+00 9.710e+00 4.379e+01 1.435e+02 5.263e-02 1.938e-02 0.000e+00\n",
            " 0.000e+00 1.060e-01 5.024e-02 1.153e-01 3.602e-01 7.570e-01 6.802e+00\n",
            " 1.713e-03 2.252e-03 0.000e+00 0.000e+00 9.539e-03 8.948e-04 7.930e+00\n",
            " 1.202e+01 5.041e+01 1.852e+02 7.117e-02 2.729e-02 0.000e+00 0.000e+00\n",
            " 1.566e-01 5.521e-02]\n",
            "Valores máximos por feature antes de reescalar [2.811e+01 3.928e+01 1.885e+02 2.501e+03 1.634e-01 2.867e-01 4.268e-01\n",
            " 2.012e-01 3.040e-01 9.575e-02 2.873e+00 4.885e+00 2.198e+01 5.422e+02\n",
            " 3.113e-02 1.354e-01 3.960e-01 5.279e-02 6.146e-02 2.984e-02 3.604e+01\n",
            " 4.954e+01 2.512e+02 4.254e+03 2.226e-01 9.379e-01 1.170e+00 2.910e-01\n",
            " 5.774e-01 1.486e-01]\n",
            "Valores mínimos por feature después de reescalar [-1.4997619  -1.61634103 -1.44153964 -1.06977365 -2.34762798 -1.19718528\n",
            " -0.59360951 -0.62128405 -2.2532617  -1.44427002 -0.78923598 -1.09209588\n",
            " -0.87433529 -0.64603664 -1.5432078  -0.88714268 -0.94088275 -1.51178301\n",
            " -1.04231096 -0.99976306 -1.18205128 -1.49687322 -1.11527446 -0.88156835\n",
            " -2.21761468 -0.98330327 -0.84110441 -0.97458901 -1.9095092  -1.24424537]\n",
            "Valores máximos por feature depués de reescalar [ 3.53095238  3.63587922  3.4876948   5.22654737  3.5901903   2.93705537\n",
            "  3.53265336  3.08798451  3.82501919  4.27127159  9.58976289  5.69756537\n",
            " 11.00531766 18.77707237  8.34818426  5.5912906  13.1830584   5.71057222\n",
            "  4.83942226 11.46989768  3.62307692  2.76918704  3.67684964  6.40300779\n",
            "  3.33944954  3.70935326  3.43755714  1.89431395  4.54447853  3.40375762]\n"
          ]
        }
      ]
    },
    {
      "cell_type": "code",
      "source": [
        "X_train_r_scaled"
      ],
      "metadata": {
        "colab": {
          "base_uri": "https://localhost:8080/"
        },
        "id": "fvXzCVGmpT7M",
        "outputId": "7e79cd44-d8b5-4b65-aa42-e77dabbdfbdd"
      },
      "execution_count": null,
      "outputs": [
        {
          "output_type": "execute_result",
          "data": {
            "text/plain": [
              "array([[ 0.46190476,  2.09769094,  0.58894661, ...,  1.34813792,\n",
              "         1.9601227 ,  3.02053005],\n",
              "       [ 0.4       ,  0.05150977,  0.37196628, ...,  0.4933823 ,\n",
              "         0.23159509,  0.22446186],\n",
              "       [ 0.33333333,  0.23445826,  0.29396236, ...,  0.61168758,\n",
              "         0.33435583,  0.09705114],\n",
              "       ...,\n",
              "       [ 0.93333333,  1.01420959,  0.95682534, ...,  0.89759199,\n",
              "         0.76993865,  2.67214135],\n",
              "       [ 0.17857143,  0.43339254,  0.12535127, ..., -0.18953491,\n",
              "        -0.89723926, -0.20107005],\n",
              "       [-0.05952381, -0.06927176, -0.11921996, ..., -0.48036872,\n",
              "        -1.26380368, -0.92173697]])"
            ]
          },
          "metadata": {},
          "execution_count": 15
        }
      ]
    },
    {
      "cell_type": "code",
      "source": [
        "X_test_r_scaled"
      ],
      "metadata": {
        "colab": {
          "base_uri": "https://localhost:8080/"
        },
        "id": "uJ8IvkFSpWMx",
        "outputId": "8048172e-4286-4245-92db-3c8aaa5e317f"
      },
      "execution_count": null,
      "outputs": [
        {
          "output_type": "execute_result",
          "data": {
            "text/plain": [
              "array([[ 0.30357143, -0.92134831,  0.4014197 , ...,  0.05695509,\n",
              "        -0.02367688,  0.6081623 ],\n",
              "       [-0.08418367, -0.04494382, -0.03300799, ...,  1.13033954,\n",
              "         1.47075209,  1.82637414],\n",
              "       [-0.14030612, -0.53932584, -0.13380657, ...,  0.        ,\n",
              "         0.74651811,  0.78556263],\n",
              "       ...,\n",
              "       [ 0.39540816,  0.03183521,  0.36734694, ...,  0.07009858,\n",
              "        -0.78272981, -0.45529606],\n",
              "       [ 1.50510204,  0.86142322,  1.4974268 , ...,  0.55640745,\n",
              "         0.10584958, -0.14390186],\n",
              "       [-0.41071429,  0.42509363, -0.37338066, ..., -0.25158817,\n",
              "         0.32172702, -0.26798773]])"
            ]
          },
          "metadata": {},
          "execution_count": 16
        }
      ]
    }
  ]
}