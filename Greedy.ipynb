{
  "nbformat": 4,
  "nbformat_minor": 0,
  "metadata": {
    "colab": {
      "name": "Greedy.ipynb",
      "provenance": [],
      "collapsed_sections": [],
      "authorship_tag": "ABX9TyMt9oiLDRfX+n/egYXK+3Xo",
      "include_colab_link": true
    },
    "kernelspec": {
      "name": "python3",
      "display_name": "Python 3"
    },
    "language_info": {
      "name": "python"
    }
  },
  "cells": [
    {
      "cell_type": "markdown",
      "metadata": {
        "id": "view-in-github",
        "colab_type": "text"
      },
      "source": [
        "<a href=\"https://colab.research.google.com/github/luis314159/portfolio/blob/master/Greedy.ipynb\" target=\"_parent\"><img src=\"https://colab.research.google.com/assets/colab-badge.svg\" alt=\"Open In Colab\"/></a>"
      ]
    },
    {
      "cell_type": "markdown",
      "source": [
        "#**<center>Universidad Autónoma de Chihuahua**\n",
        "\n",
        "<div align= \"center\">\n",
        "<img src=\"https://uach.mx/assets/media/snippet/62/escudo-web-header-black.svg\" width=\"350\" height=\"350\" />\n",
        "\n",
        "</div>\n",
        "<div align =\"center\">\n",
        "<img src=\"https://cimav.edu.mx/wp-content/uploads/2017/05/ingenieria-uach.png\" width=\"200\" height=\"200\" />\n",
        "</div>\n",
        "\n",
        "##<center>Maestría en ingeniería en computación \n",
        "##<center>Análisis y diseño de algoritmos \n",
        "##<center>Trabajo: \n",
        "##<center>Implementación de algoritmo de Dijkstra y Kruskal\n",
        "##<center>Algoritmos greedy\n",
        "###<center>Catedrático: Dr. Jésus Roberto López Santillán\n",
        "###<center>Estudiante: Ing. Luis Ángel Almazán López</center>\n",
        "<!-- badges: start -->\n",
        "[![@luis3.14159](https://img.shields.io/badge/@luis314159-gitHub-darkred?&logoColor=white)](https://github.com/luis314159/) \n",
        "[![Platzi](https://img.shields.io/badge/Platzi_count-luisangelalmaznlpez-green&logoColor=white)](https://platzi.com/p/luisangelalmaznlpez/)\n",
        "![Email](https://img.shields.io/badge/email-p364977@uach.mx-darkblue?&logoColor=white)\n",
        "<!-- badges: end -->"
      ],
      "metadata": {
        "id": "Pj_SvkETHnJj"
      }
    },
    {
      "cell_type": "markdown",
      "source": [
        "#Dijkstra"
      ],
      "metadata": {
        "id": "DFUadZW1iy_B"
      }
    },
    {
      "cell_type": "markdown",
      "source": [
        "Este algoritmo proporciona el camino más corto para llegar a cualquier nodo del arbol apartir de un nodo raíz, acontinuación se muestra el código y pseudocódigo "
      ],
      "metadata": {
        "id": "292MXWiPDJ2d"
      }
    },
    {
      "cell_type": "markdown",
      "source": [
        "##Pseudo código \n",
        "\n",
        "\n",
        "```\n",
        "procedure dijkstrasAlgorithms(s,G)\n",
        "  let q be new queue\n",
        "  for each v in V:\n",
        "    dist[v]=inf\n",
        "\n",
        "  dist[s]=0\n",
        "  enqueue(s,q)\n",
        "\n",
        "  while q is not empty\n",
        "      let each node u connected ti v:\n",
        "        if dist[u] > dist[v] + l(u,v):\n",
        "           dist[u] > dist[v] + l(u,v)\n",
        "           if u is no enqueued into q:\n",
        "              enqueue(u,q)\n",
        "```\n",
        "\n"
      ],
      "metadata": {
        "id": "NvhqdSkA8yPu"
      }
    },
    {
      "cell_type": "markdown",
      "source": [
        "##Código"
      ],
      "metadata": {
        "id": "c2o4jIB4iTt4"
      }
    },
    {
      "cell_type": "code",
      "source": [
        "class Graph():\n",
        "    def __init__(self,n):\n",
        "        self.num_vertices=n+1\n",
        "        self.adjacency_list={i:[] for i in range(n+1)}\n",
        "        #Por default se les dara un peso infinito a loas vertices \n",
        "        self.edges=[[float(\"inf\") for i in range(self.num_vertices)]for j in range(self.num_vertices)]\n",
        "        self.ways={}\n",
        "\n",
        "        #Aqui se le dara una distancia infinita a cada nodo\n",
        "        self.dist=[float(\"inf\")]*(max(self.adjacency_list)+1)\n",
        "\n",
        "    def neighbor(self,u):\n",
        "        #Esté método nos permite obtener los vecinos de un nodo\n",
        "        return self.adjacency_list[u]\n",
        "\n",
        "    #Método para darle peso a los vertices\n",
        "    def add_edge(self, u, v, weight):\n",
        "        #En este método se guardan los pesos de los vertices \n",
        "        #en una lista dentro de un lista\n",
        "        self.edges[u][v] = weight\n",
        "        self.edges[v][u] = weight\n",
        "        self.adjacency_list[u].append(v)\n",
        "        self.adjacency_list[v].append(u)\n",
        "\n",
        "    def dijkstra(self,s):\n",
        "        #Lista de distancias \n",
        "        self.dist[s] = 0\n",
        "        #Lista del camino optimo para cada nodo\n",
        "        self.ways[s]=[s]\n",
        "        #Lista de nodos visitados \n",
        "        visited=[]\n",
        "        #se crea una nueva cola\n",
        "        queue = [[0,s]]\n",
        "        #Tabla\n",
        "        print(f\"    node     |    distance     |    way    \")\n",
        "        # Miestras halla elementos en la cola\n",
        "        while queue:  \n",
        "\n",
        "            #Se ordena queue en base a las distancia minimas \n",
        "\n",
        "            queue=sorted(queue, key=lambda item: item[0])\n",
        "            v=queue.pop(0)[1]\n",
        "            visited.append(v)\n",
        "\n",
        "            #Para mostrar los datos en una tabla\n",
        "            #Para acomodar la lista cuando hay un valor mayor que 10 \n",
        "            if self.dist[v]>=10:\n",
        "                print(f\"    {v}        |    {self.dist[v]}           |    {self.ways[v]}      \")\n",
        "            else:\n",
        "                print(f\"    {v}        |    {self.dist[v]}            |    {self.ways[v]}      \")\n",
        "            #Para cada nodo vecino de v\n",
        "            for u in self.neighbor(v):\n",
        "                if self.dist[u]> self.dist[v]+self.edges[u][v]:\n",
        "                    self.dist[u] = self.dist[v]+self.edges[u][v]\n",
        "                    \n",
        "\n",
        "                    if u not in visited:\n",
        "                        self.ways[u]=self.ways[v].copy()\n",
        "                        #self.ways[u].append(v)\n",
        "                        self.ways[u].append(u)\n",
        "\n",
        "                    #if u in queue\n",
        "                    flag=True\n",
        "                    for i in queue:\n",
        "                      if u==i[1]:\n",
        "                        i[0]=self.dist[u]\n",
        "                        flag=False\n",
        "                        break\n",
        "                \n",
        "                    if u not in visited and flag:\n",
        "                        queue.append([self.dist[u],u]) \n",
        "        return self.dist\n",
        "\n",
        "def run():\n",
        "    #Se agregaran los edges\n",
        "    G=Graph(8)\n",
        "    G.add_edge(0,1,4)\n",
        "    G.add_edge(0,6,7)\n",
        "    G.add_edge(1,2,9)\n",
        "    G.add_edge(1,7,20)\n",
        "    G.add_edge(1,6,11)\n",
        "    G.add_edge(2,3,6)\n",
        "    G.add_edge(2,4,2)\n",
        "    G.add_edge(3,5,5)\n",
        "    G.add_edge(3,4,10)\n",
        "    G.add_edge(4,5,15)\n",
        "    G.add_edge(4,7,1)\n",
        "    G.add_edge(4,8,5)\n",
        "    G.add_edge(5,8,12)\n",
        "    G.add_edge(6,7,1)\n",
        "    G.add_edge(7,8,3)\n",
        "\n",
        "    #mostras la lista de adyacencia \n",
        "    print(\"Adjacency list\")\n",
        "    print()\n",
        "    for i in G.adjacency_list:\n",
        "          print(f\"{i}:{G.adjacency_list[i]}\")\n",
        "\n",
        "    #dijkstra con nodo raíz 0\n",
        "    print()\n",
        "    print(\"========================================================\")\n",
        "    print(\"                 Dijkstra                               \")\n",
        "    print(\"========================================================\")\n",
        "    G.dijkstra(0)\n",
        "    print(\"========================================================\")\n",
        "#Entry point\n",
        "if __name__ ==\"__main__\":\n",
        "    run()\n"
      ],
      "metadata": {
        "id": "Rr18QUx8HrDN",
        "colab": {
          "base_uri": "https://localhost:8080/"
        },
        "outputId": "f562059c-7cb7-4241-bcfc-65c3ec0a911f"
      },
      "execution_count": null,
      "outputs": [
        {
          "output_type": "stream",
          "name": "stdout",
          "text": [
            "Adjacency list\n",
            "\n",
            "0:[1, 6]\n",
            "1:[0, 2, 7, 6]\n",
            "2:[1, 3, 4]\n",
            "3:[2, 5, 4]\n",
            "4:[2, 3, 5, 7, 8]\n",
            "5:[3, 4, 8]\n",
            "6:[0, 1, 7]\n",
            "7:[1, 4, 6, 8]\n",
            "8:[4, 5, 7]\n",
            "\n",
            "========================================================\n",
            "                 Dijkstra                               \n",
            "========================================================\n",
            "    node     |    distance     |    way    \n",
            "    0        |    0            |    [0]      \n",
            "    1        |    4            |    [0, 1]      \n",
            "    6        |    7            |    [0, 6]      \n",
            "    7        |    8            |    [0, 6, 7]      \n",
            "    4        |    9            |    [0, 6, 7, 4]      \n",
            "    8        |    11           |    [0, 6, 7, 8]      \n",
            "    2        |    11           |    [0, 6, 7, 4, 2]      \n",
            "    3        |    17           |    [0, 6, 7, 4, 2, 3]      \n",
            "    5        |    22           |    [0, 6, 7, 4, 2, 3, 5]      \n",
            "========================================================\n"
          ]
        }
      ]
    },
    {
      "cell_type": "markdown",
      "source": [
        "#Kruskal\n"
      ],
      "metadata": {
        "id": "eRHWP0rr4xbI"
      }
    },
    {
      "cell_type": "markdown",
      "source": [
        "El algotimo de de kruskal nos proporciona, apartir de un grafo el arbol de expanción minima, acontinuación se muestra el código y pseudocódigo. "
      ],
      "metadata": {
        "id": "6cSc7e_rEf4Y"
      }
    },
    {
      "cell_type": "markdown",
      "source": [
        "## Pseudocódigo\n",
        "\n",
        "```\n",
        "algorithm Kruskal(G) is\n",
        "    F:= ∅\n",
        "    for each v ∈ G.V do\n",
        "        MAKE-SET(v)\n",
        "    for each (u, v) in G.E ordered by weight(u, v), increasing do\n",
        "        if FIND-SET(u) ≠ FIND-SET(v) then\n",
        "            F:= F ∪ {(u, v)} ∪ {(v, u)}\n",
        "            UNION(FIND-SET(u), FIND-SET(v))\n",
        "    return F\n",
        "```\n",
        "\n",
        "\n"
      ],
      "metadata": {
        "id": "4tXOJheYfP5i"
      }
    },
    {
      "cell_type": "code",
      "source": [
        "class Graph():\n",
        "    def __init__(self,n):\n",
        "        self.num_nodos=n\n",
        "        self.adjacency_list={i:[] for i in range(n+1)}\n",
        "        #Por default se les dara un peso infinito a loas vertices\n",
        "        self.edges=[]\n",
        "        self.numero_vertices=0\n",
        "        self.checked_edges=[]\n",
        "        #Aqui se le dara una distancia infinita a cada nodo\n",
        "        self.dist=[float(\"inf\")]*(max(self.adjacency_list)+1)\n",
        "\n",
        "    def neighbor(self,u):\n",
        "        #Esté método nos permite obtener los vecinos de un nodo\n",
        "        return self.adjacency_list[u]\n",
        "\n",
        "    #Método para darle peso a los vertices\n",
        "    def add_edge(self, u, v, weight):\n",
        "        #para crear la lista de adyacencia \n",
        "        self.adjacency_list[u].append(v)\n",
        "        self.adjacency_list[v].append(u)\n",
        "\n",
        "        #En este metodo se guardarn los edges por orden de peso\n",
        "        for i in range(self.numero_vertices):\n",
        "            if self.edges[i][2]>=weight:\n",
        "              self.edges.insert(i,[u,v, weight])\n",
        "              self.numero_vertices+=1 \n",
        "              return\n",
        "        self.edges.append([u,v, weight])\n",
        "        self.numero_vertices+=1 \n",
        "\n",
        "\n",
        "    def search(self, seeds, i):\n",
        "        #Este método permite encontrar en nodo raíz del grupo en el que se\n",
        "        # encuentre el nodo i\n",
        "        if seeds[i] == i:\n",
        "            return i\n",
        "        return self.search(seeds, seeds[i])\n",
        "\n",
        "    def apply_union(self, seeds, level, x, y):\n",
        "        #Aquí se unen los grupos\n",
        "        xseed = self.search(seeds, x)\n",
        "        yseed = self.search(seeds, y)\n",
        "        if level[xseed] < level[yseed]:\n",
        "            seeds[xseed] = yseed\n",
        "        elif level[xseed] > level[yseed]:\n",
        "            seeds[yseed] = xseed\n",
        "        else:\n",
        "            seeds[yseed] = xseed\n",
        "            level[xseed] += 1\n",
        "\n",
        "    def kruskal(self,s):\n",
        "        seeds=[i for i in range(self.num_nodos+1)]\n",
        "        level=[0]*(self.num_nodos+1)\n",
        "        i,j=0,0\n",
        "        #Los vertices ya se encuentran oredenados por el método Graph.add_edge()\n",
        "        #Para mostrar los resultados de manera organizada\n",
        "        print(f\"    node     |    node        |    weigth    \")\n",
        "        while j < self.num_nodos - 1:\n",
        "            u, v, w = self.edges[i]\n",
        "            i = i + 1\n",
        "            x = self.search(seeds, u)\n",
        "            y = self.search(seeds, v)\n",
        "            if x != y:\n",
        "                j = j + 1\n",
        "                self.checked_edges.append([u, v, w])\n",
        "                self.apply_union(seeds, level, x, y)\n",
        "        for u, v, weight in self.checked_edges:\n",
        "            print(f\"    {u}        |    {v}           |    {weight}      \")\n",
        "            \n",
        "\n",
        "\n",
        "def run():\n",
        "    #Se agregaran los edges\n",
        "    G=Graph(8)\n",
        "    G.add_edge(0,1,4)\n",
        "    G.add_edge(0,6,7)\n",
        "    G.add_edge(1,2,9)\n",
        "    G.add_edge(1,7,20)\n",
        "    G.add_edge(1,6,11)\n",
        "    G.add_edge(2,3,6)\n",
        "    G.add_edge(2,4,2)\n",
        "    G.add_edge(3,5,5)\n",
        "    G.add_edge(3,4,10)\n",
        "    G.add_edge(4,5,15)\n",
        "    G.add_edge(4,7,1)\n",
        "    G.add_edge(4,8,5)\n",
        "    G.add_edge(5,8,12)\n",
        "    G.add_edge(6,7,1)\n",
        "    G.add_edge(7,8,3)\n",
        "\n",
        "    #mostras la lista de adyacencia \n",
        "    print(\"Adjacency list\")\n",
        "    print()\n",
        "    for i in G.adjacency_list:\n",
        "          print(f\"{i}:{G.adjacency_list[i]}\")\n",
        "    print()\n",
        "    print(\"========================================================\")\n",
        "    print(\"                 Kruskal                           \")\n",
        "    print(\"========================================================\")\n",
        "    G.kruskal(0)\n",
        "    print(\"========================================================\")\n",
        "#Entry point\n",
        "if __name__ ==\"__main__\":\n",
        "    run()"
      ],
      "metadata": {
        "colab": {
          "base_uri": "https://localhost:8080/"
        },
        "id": "jS6fA-wf4009",
        "outputId": "6b0ca58f-c337-4fc2-890f-126fc4518c07"
      },
      "execution_count": null,
      "outputs": [
        {
          "output_type": "stream",
          "name": "stdout",
          "text": [
            "Adjacency list\n",
            "\n",
            "0:[1, 6]\n",
            "1:[0, 2, 7, 6]\n",
            "2:[1, 3, 4]\n",
            "3:[2, 5, 4]\n",
            "4:[2, 3, 5, 7, 8]\n",
            "5:[3, 4, 8]\n",
            "6:[0, 1, 7]\n",
            "7:[1, 4, 6, 8]\n",
            "8:[4, 5, 7]\n",
            "\n",
            "========================================================\n",
            "                 Kruskal                           \n",
            "========================================================\n",
            "    node     |    node        |    weigth    \n",
            "    6        |    7           |    1      \n",
            "    4        |    7           |    1      \n",
            "    2        |    4           |    2      \n",
            "    7        |    8           |    3      \n",
            "    0        |    1           |    4      \n",
            "    3        |    5           |    5      \n",
            "    2        |    3           |    6      \n",
            "========================================================\n"
          ]
        }
      ]
    }
  ]
}